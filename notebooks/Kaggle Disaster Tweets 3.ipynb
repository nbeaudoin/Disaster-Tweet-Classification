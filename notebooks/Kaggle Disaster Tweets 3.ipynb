{
 "cells": [
  {
   "cell_type": "markdown",
   "metadata": {},
   "source": [
    "## Setup"
   ]
  },
  {
   "cell_type": "code",
   "execution_count": 1,
   "metadata": {},
   "outputs": [],
   "source": [
    "import numpy as np\n",
    "import pandas as pd\n",
    "from sklearn import feature_extraction, linear_model, model_selection, preprocessing\n",
    "from sklearn.feature_extraction.text import CountVectorizer"
   ]
  },
  {
   "cell_type": "code",
   "execution_count": 2,
   "metadata": {},
   "outputs": [
    {
     "name": "stdout",
     "output_type": "stream",
     "text": [
      "/Users/nicholasbeaudoin/Desktop/Kaggle/Disaster Tweets\r\n"
     ]
    }
   ],
   "source": [
    "!pwd"
   ]
  },
  {
   "cell_type": "markdown",
   "metadata": {},
   "source": [
    "## Load data"
   ]
  },
  {
   "cell_type": "code",
   "execution_count": 3,
   "metadata": {},
   "outputs": [],
   "source": [
    "train_df = pd.read_csv(\"data/train.csv\")\n",
    "test_df = pd.read_csv(\"data/test.csv\")"
   ]
  },
  {
   "cell_type": "code",
   "execution_count": 4,
   "metadata": {
    "scrolled": true
   },
   "outputs": [
    {
     "data": {
      "text/html": [
       "<div>\n",
       "<style scoped>\n",
       "    .dataframe tbody tr th:only-of-type {\n",
       "        vertical-align: middle;\n",
       "    }\n",
       "\n",
       "    .dataframe tbody tr th {\n",
       "        vertical-align: top;\n",
       "    }\n",
       "\n",
       "    .dataframe thead th {\n",
       "        text-align: right;\n",
       "    }\n",
       "</style>\n",
       "<table border=\"1\" class=\"dataframe\">\n",
       "  <thead>\n",
       "    <tr style=\"text-align: right;\">\n",
       "      <th></th>\n",
       "      <th>id</th>\n",
       "      <th>keyword</th>\n",
       "      <th>location</th>\n",
       "      <th>text</th>\n",
       "      <th>target</th>\n",
       "    </tr>\n",
       "  </thead>\n",
       "  <tbody>\n",
       "    <tr>\n",
       "      <th>0</th>\n",
       "      <td>1</td>\n",
       "      <td>NaN</td>\n",
       "      <td>NaN</td>\n",
       "      <td>Our Deeds are the Reason of this #earthquake M...</td>\n",
       "      <td>1</td>\n",
       "    </tr>\n",
       "    <tr>\n",
       "      <th>1</th>\n",
       "      <td>4</td>\n",
       "      <td>NaN</td>\n",
       "      <td>NaN</td>\n",
       "      <td>Forest fire near La Ronge Sask. Canada</td>\n",
       "      <td>1</td>\n",
       "    </tr>\n",
       "    <tr>\n",
       "      <th>2</th>\n",
       "      <td>5</td>\n",
       "      <td>NaN</td>\n",
       "      <td>NaN</td>\n",
       "      <td>All residents asked to 'shelter in place' are ...</td>\n",
       "      <td>1</td>\n",
       "    </tr>\n",
       "    <tr>\n",
       "      <th>3</th>\n",
       "      <td>6</td>\n",
       "      <td>NaN</td>\n",
       "      <td>NaN</td>\n",
       "      <td>13,000 people receive #wildfires evacuation or...</td>\n",
       "      <td>1</td>\n",
       "    </tr>\n",
       "    <tr>\n",
       "      <th>4</th>\n",
       "      <td>7</td>\n",
       "      <td>NaN</td>\n",
       "      <td>NaN</td>\n",
       "      <td>Just got sent this photo from Ruby #Alaska as ...</td>\n",
       "      <td>1</td>\n",
       "    </tr>\n",
       "  </tbody>\n",
       "</table>\n",
       "</div>"
      ],
      "text/plain": [
       "   id keyword location                                               text  \\\n",
       "0   1     NaN      NaN  Our Deeds are the Reason of this #earthquake M...   \n",
       "1   4     NaN      NaN             Forest fire near La Ronge Sask. Canada   \n",
       "2   5     NaN      NaN  All residents asked to 'shelter in place' are ...   \n",
       "3   6     NaN      NaN  13,000 people receive #wildfires evacuation or...   \n",
       "4   7     NaN      NaN  Just got sent this photo from Ruby #Alaska as ...   \n",
       "\n",
       "   target  \n",
       "0       1  \n",
       "1       1  \n",
       "2       1  \n",
       "3       1  \n",
       "4       1  "
      ]
     },
     "execution_count": 4,
     "metadata": {},
     "output_type": "execute_result"
    }
   ],
   "source": [
    "train_df.head()"
   ]
  },
  {
   "cell_type": "markdown",
   "metadata": {},
   "source": [
    "Sample disaster tweet"
   ]
  },
  {
   "cell_type": "code",
   "execution_count": 5,
   "metadata": {},
   "outputs": [
    {
     "data": {
      "text/plain": [
       "'Forest fire near La Ronge Sask. Canada'"
      ]
     },
     "execution_count": 5,
     "metadata": {},
     "output_type": "execute_result"
    }
   ],
   "source": [
    "train_df[train_df['target'] == 1].values[1][3]"
   ]
  },
  {
   "cell_type": "markdown",
   "metadata": {},
   "source": [
    "Sample non-disaster tweet"
   ]
  },
  {
   "cell_type": "code",
   "execution_count": 6,
   "metadata": {},
   "outputs": [
    {
     "data": {
      "text/plain": [
       "'I love fruits'"
      ]
     },
     "execution_count": 6,
     "metadata": {},
     "output_type": "execute_result"
    }
   ],
   "source": [
    "train_df[train_df['target'] == 0].values[1][3]"
   ]
  },
  {
   "cell_type": "markdown",
   "metadata": {},
   "source": [
    "## EDA"
   ]
  },
  {
   "cell_type": "markdown",
   "metadata": {},
   "source": [
    "Look at the length of tweets."
   ]
  },
  {
   "cell_type": "code",
   "execution_count": 7,
   "metadata": {},
   "outputs": [
    {
     "data": {
      "text/html": [
       "<div>\n",
       "<style scoped>\n",
       "    .dataframe tbody tr th:only-of-type {\n",
       "        vertical-align: middle;\n",
       "    }\n",
       "\n",
       "    .dataframe tbody tr th {\n",
       "        vertical-align: top;\n",
       "    }\n",
       "\n",
       "    .dataframe thead th {\n",
       "        text-align: right;\n",
       "    }\n",
       "</style>\n",
       "<table border=\"1\" class=\"dataframe\">\n",
       "  <thead>\n",
       "    <tr style=\"text-align: right;\">\n",
       "      <th></th>\n",
       "      <th>id</th>\n",
       "      <th>keyword</th>\n",
       "      <th>location</th>\n",
       "      <th>text</th>\n",
       "      <th>target</th>\n",
       "      <th>char_length</th>\n",
       "    </tr>\n",
       "  </thead>\n",
       "  <tbody>\n",
       "    <tr>\n",
       "      <th>0</th>\n",
       "      <td>1</td>\n",
       "      <td>NaN</td>\n",
       "      <td>NaN</td>\n",
       "      <td>Our Deeds are the Reason of this #earthquake M...</td>\n",
       "      <td>1</td>\n",
       "      <td>69</td>\n",
       "    </tr>\n",
       "    <tr>\n",
       "      <th>1</th>\n",
       "      <td>4</td>\n",
       "      <td>NaN</td>\n",
       "      <td>NaN</td>\n",
       "      <td>Forest fire near La Ronge Sask. Canada</td>\n",
       "      <td>1</td>\n",
       "      <td>38</td>\n",
       "    </tr>\n",
       "    <tr>\n",
       "      <th>2</th>\n",
       "      <td>5</td>\n",
       "      <td>NaN</td>\n",
       "      <td>NaN</td>\n",
       "      <td>All residents asked to 'shelter in place' are ...</td>\n",
       "      <td>1</td>\n",
       "      <td>133</td>\n",
       "    </tr>\n",
       "    <tr>\n",
       "      <th>3</th>\n",
       "      <td>6</td>\n",
       "      <td>NaN</td>\n",
       "      <td>NaN</td>\n",
       "      <td>13,000 people receive #wildfires evacuation or...</td>\n",
       "      <td>1</td>\n",
       "      <td>65</td>\n",
       "    </tr>\n",
       "    <tr>\n",
       "      <th>4</th>\n",
       "      <td>7</td>\n",
       "      <td>NaN</td>\n",
       "      <td>NaN</td>\n",
       "      <td>Just got sent this photo from Ruby #Alaska as ...</td>\n",
       "      <td>1</td>\n",
       "      <td>88</td>\n",
       "    </tr>\n",
       "  </tbody>\n",
       "</table>\n",
       "</div>"
      ],
      "text/plain": [
       "   id keyword location                                               text  \\\n",
       "0   1     NaN      NaN  Our Deeds are the Reason of this #earthquake M...   \n",
       "1   4     NaN      NaN             Forest fire near La Ronge Sask. Canada   \n",
       "2   5     NaN      NaN  All residents asked to 'shelter in place' are ...   \n",
       "3   6     NaN      NaN  13,000 people receive #wildfires evacuation or...   \n",
       "4   7     NaN      NaN  Just got sent this photo from Ruby #Alaska as ...   \n",
       "\n",
       "   target  char_length  \n",
       "0       1           69  \n",
       "1       1           38  \n",
       "2       1          133  \n",
       "3       1           65  \n",
       "4       1           88  "
      ]
     },
     "execution_count": 7,
     "metadata": {},
     "output_type": "execute_result"
    }
   ],
   "source": [
    "# Create length of tweet feature\n",
    "train_df['char_length'] = train_df['text'].str.len()\n",
    "train_df.head()"
   ]
  },
  {
   "cell_type": "code",
   "execution_count": 8,
   "metadata": {},
   "outputs": [
    {
     "data": {
      "text/html": [
       "<div>\n",
       "<style scoped>\n",
       "    .dataframe tbody tr th:only-of-type {\n",
       "        vertical-align: middle;\n",
       "    }\n",
       "\n",
       "    .dataframe tbody tr th {\n",
       "        vertical-align: top;\n",
       "    }\n",
       "\n",
       "    .dataframe thead th {\n",
       "        text-align: right;\n",
       "    }\n",
       "</style>\n",
       "<table border=\"1\" class=\"dataframe\">\n",
       "  <thead>\n",
       "    <tr style=\"text-align: right;\">\n",
       "      <th></th>\n",
       "      <th>id</th>\n",
       "      <th>keyword</th>\n",
       "      <th>location</th>\n",
       "      <th>text</th>\n",
       "      <th>target</th>\n",
       "      <th>char_length</th>\n",
       "      <th>word_length</th>\n",
       "    </tr>\n",
       "  </thead>\n",
       "  <tbody>\n",
       "    <tr>\n",
       "      <th>0</th>\n",
       "      <td>1</td>\n",
       "      <td>NaN</td>\n",
       "      <td>NaN</td>\n",
       "      <td>Our Deeds are the Reason of this #earthquake M...</td>\n",
       "      <td>1</td>\n",
       "      <td>69</td>\n",
       "      <td>13</td>\n",
       "    </tr>\n",
       "    <tr>\n",
       "      <th>1</th>\n",
       "      <td>4</td>\n",
       "      <td>NaN</td>\n",
       "      <td>NaN</td>\n",
       "      <td>Forest fire near La Ronge Sask. Canada</td>\n",
       "      <td>1</td>\n",
       "      <td>38</td>\n",
       "      <td>7</td>\n",
       "    </tr>\n",
       "    <tr>\n",
       "      <th>2</th>\n",
       "      <td>5</td>\n",
       "      <td>NaN</td>\n",
       "      <td>NaN</td>\n",
       "      <td>All residents asked to 'shelter in place' are ...</td>\n",
       "      <td>1</td>\n",
       "      <td>133</td>\n",
       "      <td>22</td>\n",
       "    </tr>\n",
       "    <tr>\n",
       "      <th>3</th>\n",
       "      <td>6</td>\n",
       "      <td>NaN</td>\n",
       "      <td>NaN</td>\n",
       "      <td>13,000 people receive #wildfires evacuation or...</td>\n",
       "      <td>1</td>\n",
       "      <td>65</td>\n",
       "      <td>8</td>\n",
       "    </tr>\n",
       "    <tr>\n",
       "      <th>4</th>\n",
       "      <td>7</td>\n",
       "      <td>NaN</td>\n",
       "      <td>NaN</td>\n",
       "      <td>Just got sent this photo from Ruby #Alaska as ...</td>\n",
       "      <td>1</td>\n",
       "      <td>88</td>\n",
       "      <td>16</td>\n",
       "    </tr>\n",
       "  </tbody>\n",
       "</table>\n",
       "</div>"
      ],
      "text/plain": [
       "   id keyword location                                               text  \\\n",
       "0   1     NaN      NaN  Our Deeds are the Reason of this #earthquake M...   \n",
       "1   4     NaN      NaN             Forest fire near La Ronge Sask. Canada   \n",
       "2   5     NaN      NaN  All residents asked to 'shelter in place' are ...   \n",
       "3   6     NaN      NaN  13,000 people receive #wildfires evacuation or...   \n",
       "4   7     NaN      NaN  Just got sent this photo from Ruby #Alaska as ...   \n",
       "\n",
       "   target  char_length  word_length  \n",
       "0       1           69           13  \n",
       "1       1           38            7  \n",
       "2       1          133           22  \n",
       "3       1           65            8  \n",
       "4       1           88           16  "
      ]
     },
     "execution_count": 8,
     "metadata": {},
     "output_type": "execute_result"
    }
   ],
   "source": [
    "# Create word length feature\n",
    "train_df['word_length'] = train_df['text'].str.split().str.len()\n",
    "train_df.head()"
   ]
  },
  {
   "cell_type": "code",
   "execution_count": 9,
   "metadata": {
    "scrolled": false
   },
   "outputs": [
    {
     "data": {
      "text/plain": [
       "<Figure size 1000x600 with 1 Axes>"
      ]
     },
     "metadata": {},
     "output_type": "display_data"
    }
   ],
   "source": [
    "# Compare the number of words between disaster and non-disaster tweets\n",
    "import seaborn as sns\n",
    "import matplotlib.pyplot as plt\n",
    "\n",
    "non_disaster = train_df[train_df['target'] == 0]['word_length']\n",
    "disaster = train_df[train_df['target'] == 1]['word_length']\n",
    "\n",
    "\n",
    "fig = plt.figure(figsize=(10,6))\n",
    "\n",
    "g = sns.distplot(non_disaster, hist=True, kde=True, \n",
    "             bins=int(180/5), color = 'darkblue', \n",
    "             hist_kws={'edgecolor':'black'},\n",
    "             kde_kws={'linewidth': 4})\n",
    "\n",
    "g = sns.distplot(disaster, hist=True, kde=True, \n",
    "             bins=int(180/5), color = 'darkred', \n",
    "             hist_kws={'edgecolor':'red'},\n",
    "             kde_kws={'linewidth': 4})\n",
    "\n",
    "fig.legend(labels=['non-disaster','disaster'])\n",
    "g.set_title('Tweet Word Count')\n",
    "plt.show()"
   ]
  },
  {
   "cell_type": "code",
   "execution_count": 10,
   "metadata": {},
   "outputs": [
    {
     "data": {
      "image/png": "[encoded data removed]",
      "text/plain": [
       "<Figure size 720x432 with 1 Axes>"
      ]
     },
     "metadata": {
      "needs_background": "light"
     },
     "output_type": "display_data"
    }
   ],
   "source": [
    "# Compare the length of tweets between disaster and non-disaster \n",
    "import seaborn as sns\n",
    "import matplotlib.pyplot as plt\n",
    "\n",
    "non_disaster = train_df[train_df['target'] == 0]['char_length']\n",
    "disaster = train_df[train_df['target'] == 1]['char_length']\n",
    "\n",
    "\n",
    "fig = plt.figure(figsize=(10,6))\n",
    "\n",
    "g = sns.distplot(non_disaster, hist=True, kde=True, \n",
    "             bins=int(180/5), color = 'darkblue', \n",
    "             hist_kws={'edgecolor':'black'},\n",
    "             kde_kws={'linewidth': 4})\n",
    "\n",
    "g = sns.distplot(disaster, hist=True, kde=True, \n",
    "             bins=int(180/5), color = 'darkred', \n",
    "             hist_kws={'edgecolor':'red'},\n",
    "             kde_kws={'linewidth': 4})\n",
    "\n",
    "fig.legend(labels=['non-disaster','disaster'])\n",
    "g.set_title('Tweet Character Count')\n",
    "plt.show()"
   ]
  },
  {
   "cell_type": "markdown",
   "metadata": {},
   "source": [
    "There doesn't appear to be a any difference between disaster and non-disaster tweet lengths and character counts."
   ]
  },
  {
   "cell_type": "markdown",
   "metadata": {},
   "source": [
    "Let's next look at the top words in disaster tweets compared to non-disasters"
   ]
  },
  {
   "cell_type": "code",
   "execution_count": 93,
   "metadata": {},
   "outputs": [],
   "source": [
    "# https://www.kaggle.com/octaviosantana/most-frequent-words\n",
    "\n",
    "import nltk\n",
    "import string\n",
    "\n",
    "def top_n(target):\n",
    "    \n",
    "    # Convert text to lowercase\n",
    "    text = train_df[train_df['target'] == target]['text'].str.lower()\n",
    "\n",
    "    # Converting into a arrays\n",
    "    text_list = text.values.tolist()\n",
    "\n",
    "    # Breaking all comments by words for each list\n",
    "    text_tokens = [nltk.tokenize.wordpunct_tokenize(text) for text in text_list]\n",
    "\n",
    "    # Delete all common English words\n",
    "    stopwords = nltk.corpus.stopwords.words('english')\n",
    "    stopwords.append('http')\n",
    "    stopwords.append('https')\n",
    "\n",
    "    # Delete repeated characters in words, for example looooooong -> long\n",
    "    from itertools import groupby\n",
    "\n",
    "    def clear_multiple_char(comment):        \n",
    "        ti = []\n",
    "        for words in comment:\n",
    "            t = [''.join([\"\".join(i) for i, _ in groupby(word)]) if len(word)>10 else word for word in words]\n",
    "            ti.append(t)\n",
    "        return ti\n",
    "\n",
    "    text_tokens = clear_multiple_char(text_tokens)\n",
    "\n",
    "    # Eliminate punctuations, numbers and reduce words by their root\n",
    "    from nltk.stem.lancaster import LancasterStemmer\n",
    "    stemmer = LancasterStemmer()\n",
    "    punctuation = string.punctuation   # '!\"#$%&\\'()*+,-./:;<=>?@[\\\\]^_`{|}~'\n",
    "\n",
    "    # Add numbers\n",
    "    punctuation += '0123456789'\n",
    "\n",
    "    def comment_raiz(comment):\n",
    "        text = []\n",
    "        for lista in comment:\n",
    "            valids = [stemmer.stem(word) for word in lista if word not in stopwords and word not in punctuation \n",
    "                      and len(word)>2]\n",
    "            valids_true = [''.join([char for char in word if char not in punctuation]) for word in valids if \n",
    "                           len(''.join([char for char in word if char not in punctuation]))>0]\n",
    "            text.append(valids_true)\n",
    "        return text\n",
    "\n",
    "    text_tokens = comment_raiz(text_tokens)\n",
    "\n",
    "    # Function that counts the number of times each word was used in the comments\n",
    "    def counter(comment_clear):\n",
    "        cnt = Counter()\n",
    "        for words in comment_clear:\n",
    "            for word in words:\n",
    "                cnt[word] += 1\n",
    "        return cnt\n",
    "\n",
    "    # Count words\n",
    "    text_tokens_cnt = counter(text_tokens)\n",
    "\n",
    "    # Top 10\n",
    "    print(text_tokens_cnt.most_common(10))"
   ]
  },
  {
   "cell_type": "code",
   "execution_count": 102,
   "metadata": {},
   "outputs": [
    {
     "name": "stdout",
     "output_type": "stream",
     "text": [
      "Disaster tweets\n",
      "[('fir', 273), ('bomb', 247), ('new', 197), ('kil', 165), ('amp', 135), ('flood', 122), ('disast', 121), ('via', 121), ('californ', 117), ('crash', 115)]\n",
      "     \n",
      "Non-disaster tweets\n",
      "[('lik', 309), ('new', 227), ('get', 223), ('amp', 209), ('on', 137), ('lov', 127), ('body', 119), ('bag', 113), ('com', 110), ('tim', 106)]\n"
     ]
    }
   ],
   "source": [
    "# disaster tweets\n",
    "print('Disaster tweets')\n",
    "top_n(1)\n",
    "\n",
    "print('     ')\n",
    "\n",
    "# non-disaster tweets\n",
    "print('Non-disaster tweets')\n",
    "top_n(0)"
   ]
  },
  {
   "cell_type": "markdown",
   "metadata": {},
   "source": [
    "## Basic topic modelling"
   ]
  },
  {
   "cell_type": "code",
   "execution_count": 128,
   "metadata": {},
   "outputs": [],
   "source": [
    "### https://github.com/nbeaudoin/DAT5/blob/master/notebooks/14_nlp.ipynb\n",
    "\n",
    "import lda # Latent Dirichlet Allocation\n",
    "import numpy as np\n",
    "from sklearn.feature_extraction.text import CountVectorizer\n",
    "\n",
    "def topic_model(target):\n",
    "\n",
    "    target = target\n",
    "    \n",
    "    text = train_df[train_df['target']==target]['text']\n",
    "\n",
    "    # Tokenize into sentences\n",
    "    sentences = []\n",
    "    for text in text:\n",
    "        for sent in nltk.sent_tokenize(text):\n",
    "            sentences.append(sent)\n",
    "    sentences[:10]  \n",
    "\n",
    "    # Tokenize into words\n",
    "    tokens = []\n",
    "    for text in sentences:\n",
    "        for word in nltk.word_tokenize(text):\n",
    "            tokens.append(word)\n",
    "    tokens[:10]\n",
    "\n",
    "    # Only keep tokens that start with a letter (using regular expressions)\n",
    "    import re\n",
    "    clean_tokens = [token for token in tokens if re.search('^[a-zA-Z]+', token)]\n",
    "    clean_tokens[:20] # Tokenize into words\n",
    "\n",
    "    # Initialize stemmer\n",
    "    from nltk.stem.snowball import SnowballStemmer\n",
    "    stemmer = SnowballStemmer('english')\n",
    "\n",
    "    # Stem the tokens\n",
    "    stemmed_tokens = [stemmer.stem(t) for t in clean_tokens]\n",
    "\n",
    "    # Initialize lemmatizer\n",
    "    lemmatizer = nltk.WordNetLemmatizer()\n",
    "\n",
    "    # Lemmatize the tokens\n",
    "    lemmatized_tokens = [lemmatizer.lemmatize(t).lower() for t in clean_tokens] \n",
    "\n",
    "    # View the list of stopwords\n",
    "    stopwords = nltk.corpus.stopwords.words('english')\n",
    "\n",
    "    # Add 'http' and 'https'\n",
    "    stopwords.append('http')\n",
    "    stopwords.append('https')\n",
    "\n",
    "    # Stem the stopwords\n",
    "    stemmed_stops = [stemmer.stem(t) for t in stopwords]\n",
    "\n",
    "    # Remove stopwords from stemmed tokens\n",
    "    stemmed_tokens_no_stop = [stemmer.stem(t) for t in stemmed_tokens if t not in stemmed_stops]\n",
    "\n",
    "    # Remove stopwords from cleaned tokens\n",
    "    clean_tokens_no_stop = [t.lower() for t in clean_tokens if t.lower() not in stopwords]\n",
    "\n",
    "    # Instantiate a count vectorizer with two additional parameters\n",
    "    vect = CountVectorizer(stop_words='english', ngram_range=[1,3]) \n",
    "    sentences_train = vect.fit_transform(np.array(clean_tokens_no_stop))\n",
    "\n",
    "    # Instantiate an LDA model\n",
    "    model = lda.LDA(n_topics=10, n_iter=500)\n",
    "    model.fit(sentences_train) # Fit the model \n",
    "    n_top_words = 10\n",
    "    topic_word = model.topic_word_\n",
    "    for i, topic_dist in enumerate(topic_word):\n",
    "        topic_words = np.array(vect.get_feature_names())[np.argsort(topic_dist)][:-n_top_words:-1]\n",
    "        print('Topic {}: {}'.format(i+1, ', '.join(topic_words)))"
   ]
  },
  {
   "cell_type": "code",
   "execution_count": 129,
   "metadata": {},
   "outputs": [
    {
     "name": "stderr",
     "output_type": "stream",
     "text": [
      "INFO:lda:n_documents: 30791\n",
      "INFO:lda:vocab_size: 8710\n",
      "INFO:lda:n_words: 29655\n",
      "INFO:lda:n_topics: 10\n",
      "INFO:lda:n_iter: 500\n",
      "WARNING:lda:all zero row in document-term matrix found\n",
      "INFO:lda:<0> log likelihood: -358384\n",
      "INFO:lda:<10> log likelihood: -289651\n",
      "INFO:lda:<20> log likelihood: -285943\n",
      "INFO:lda:<30> log likelihood: -284748\n",
      "INFO:lda:<40> log likelihood: -284204\n",
      "INFO:lda:<50> log likelihood: -284191\n",
      "INFO:lda:<60> log likelihood: -284105\n",
      "INFO:lda:<70> log likelihood: -283787\n",
      "INFO:lda:<80> log likelihood: -283659\n",
      "INFO:lda:<90> log likelihood: -283549\n",
      "INFO:lda:<100> log likelihood: -283272\n",
      "INFO:lda:<110> log likelihood: -283576\n",
      "INFO:lda:<120> log likelihood: -283510\n",
      "INFO:lda:<130> log likelihood: -283315\n",
      "INFO:lda:<140> log likelihood: -283462\n",
      "INFO:lda:<150> log likelihood: -283328\n",
      "INFO:lda:<160> log likelihood: -283307\n",
      "INFO:lda:<170> log likelihood: -283408\n",
      "INFO:lda:<180> log likelihood: -283399\n",
      "INFO:lda:<190> log likelihood: -283189\n",
      "INFO:lda:<200> log likelihood: -283435\n",
      "INFO:lda:<210> log likelihood: -283690\n",
      "INFO:lda:<220> log likelihood: -283909\n",
      "INFO:lda:<230> log likelihood: -283677\n",
      "INFO:lda:<240> log likelihood: -283566\n",
      "INFO:lda:<250> log likelihood: -283516\n",
      "INFO:lda:<260> log likelihood: -283279\n",
      "INFO:lda:<270> log likelihood: -283149\n",
      "INFO:lda:<280> log likelihood: -283421\n",
      "INFO:lda:<290> log likelihood: -283576\n",
      "INFO:lda:<300> log likelihood: -283497\n",
      "INFO:lda:<310> log likelihood: -283363\n",
      "INFO:lda:<320> log likelihood: -283285\n",
      "INFO:lda:<330> log likelihood: -283562\n",
      "INFO:lda:<340> log likelihood: -283355\n",
      "INFO:lda:<350> log likelihood: -283321\n",
      "INFO:lda:<360> log likelihood: -283414\n",
      "INFO:lda:<370> log likelihood: -283404\n",
      "INFO:lda:<380> log likelihood: -283481\n",
      "INFO:lda:<390> log likelihood: -283487\n",
      "INFO:lda:<400> log likelihood: -283503\n",
      "INFO:lda:<410> log likelihood: -283514\n",
      "INFO:lda:<420> log likelihood: -283740\n",
      "INFO:lda:<430> log likelihood: -283658\n",
      "INFO:lda:<440> log likelihood: -283572\n",
      "INFO:lda:<450> log likelihood: -283466\n",
      "INFO:lda:<460> log likelihood: -284049\n",
      "INFO:lda:<470> log likelihood: -283585\n",
      "INFO:lda:<480> log likelihood: -283696\n",
      "INFO:lda:<490> log likelihood: -283528\n",
      "INFO:lda:<499> log likelihood: -283681\n"
     ]
    },
    {
     "name": "stdout",
     "output_type": "stream",
     "text": [
      "Topic 1: buildings, bomber, news, fatal, watch, near, thunderstorm, derailment, flood\n",
      "Topic 2: killed, mh370, attack, bombing, home, injured, floods, old, year\n",
      "Topic 3: california, nuclear, crash, years, rt, earthquake, world, say, ca\n",
      "Topic 4: suicide, like, storm, û_, city, confirmed, weather, affected, lives\n",
      "Topic 5: news, train, latest, warning, spill, wreckage, wild, bridge, report\n",
      "Topic 6: families, video, pm, typhoon, water, severe, evacuation, outbreak, people\n",
      "Topic 7: amp, northern, legionnaires, bomb, ûªs, death, island, pkk, wounded\n",
      "Topic 8: police, emergency, accident, û_, collapse, mass, new, oil, dead\n",
      "Topic 9: disaster, hiroshima, fires, car, homes, today, forest, man, atomic\n",
      "Topic 10: people, wildfire, burning, japan, debris, obama, army, area, investigators\n"
     ]
    }
   ],
   "source": [
    "# Topic model for disaster tweets\n",
    "topic_model(1)"
   ]
  },
  {
   "cell_type": "code",
   "execution_count": 130,
   "metadata": {},
   "outputs": [
    {
     "name": "stderr",
     "output_type": "stream",
     "text": [
      "INFO:lda:n_documents: 37502\n",
      "INFO:lda:vocab_size: 11732\n",
      "INFO:lda:n_words: 34866\n",
      "INFO:lda:n_topics: 10\n",
      "INFO:lda:n_iter: 500\n",
      "WARNING:lda:all zero row in document-term matrix found\n",
      "/Users/nicholasbeaudoin/anaconda3/lib/python3.7/site-packages/lda/utils.py:55: FutureWarning: Conversion of the second argument of issubdtype from `int` to `np.signedinteger` is deprecated. In future, it will be treated as `np.int64 == np.dtype(int).type`.\n",
      "  if sparse and not np.issubdtype(doc_word.dtype, int):\n",
      "INFO:lda:<0> log likelihood: -435436\n",
      "INFO:lda:<10> log likelihood: -357442\n",
      "INFO:lda:<20> log likelihood: -354306\n",
      "INFO:lda:<30> log likelihood: -352453\n",
      "INFO:lda:<40> log likelihood: -352246\n",
      "INFO:lda:<50> log likelihood: -352105\n",
      "INFO:lda:<60> log likelihood: -352151\n",
      "INFO:lda:<70> log likelihood: -351828\n",
      "INFO:lda:<80> log likelihood: -351942\n",
      "INFO:lda:<90> log likelihood: -351793\n",
      "INFO:lda:<100> log likelihood: -351756\n",
      "INFO:lda:<110> log likelihood: -351600\n",
      "INFO:lda:<120> log likelihood: -351925\n",
      "INFO:lda:<130> log likelihood: -351916\n",
      "INFO:lda:<140> log likelihood: -351905\n",
      "INFO:lda:<150> log likelihood: -351500\n",
      "INFO:lda:<160> log likelihood: -351587\n",
      "INFO:lda:<170> log likelihood: -351219\n",
      "INFO:lda:<180> log likelihood: -351584\n",
      "INFO:lda:<190> log likelihood: -351232\n",
      "INFO:lda:<200> log likelihood: -351315\n",
      "INFO:lda:<210> log likelihood: -351579\n",
      "INFO:lda:<220> log likelihood: -351455\n",
      "INFO:lda:<230> log likelihood: -351331\n",
      "INFO:lda:<240> log likelihood: -351568\n",
      "INFO:lda:<250> log likelihood: -351148\n",
      "INFO:lda:<260> log likelihood: -351035\n",
      "INFO:lda:<270> log likelihood: -351049\n",
      "INFO:lda:<280> log likelihood: -351325\n",
      "INFO:lda:<290> log likelihood: -351234\n",
      "INFO:lda:<300> log likelihood: -351657\n",
      "INFO:lda:<310> log likelihood: -351546\n",
      "INFO:lda:<320> log likelihood: -351277\n",
      "INFO:lda:<330> log likelihood: -351565\n",
      "INFO:lda:<340> log likelihood: -351951\n",
      "INFO:lda:<350> log likelihood: -351475\n",
      "INFO:lda:<360> log likelihood: -351000\n",
      "INFO:lda:<370> log likelihood: -351177\n",
      "INFO:lda:<380> log likelihood: -351238\n",
      "INFO:lda:<390> log likelihood: -351389\n",
      "INFO:lda:<400> log likelihood: -351602\n",
      "INFO:lda:<410> log likelihood: -351190\n",
      "INFO:lda:<420> log likelihood: -351479\n",
      "INFO:lda:<430> log likelihood: -351404\n",
      "INFO:lda:<440> log likelihood: -351448\n",
      "INFO:lda:<450> log likelihood: -351132\n",
      "INFO:lda:<460> log likelihood: -351282\n",
      "INFO:lda:<470> log likelihood: -352173\n",
      "INFO:lda:<480> log likelihood: -351698\n",
      "INFO:lda:<490> log likelihood: -351906\n",
      "INFO:lda:<499> log likelihood: -351485\n"
     ]
    },
    {
     "name": "stdout",
     "output_type": "stream",
     "text": [
      "Topic 1: û_, let, reddit, know, read, content, fall, deluge, blazing\n",
      "Topic 2: people, got, man, make, best, panic, ûªs, bloody, police\n",
      "Topic 3: time, going, think, na, way, bags, im, fucking, come\n",
      "Topic 4: world, burning, god, today, check, coming, sinking, military, stop\n",
      "Topic 5: like, black, look, school, getting, harm, bad, twister, disaster\n",
      "Topic 6: video, emergency, û_, great, shit, smoke, long, crush, war\n",
      "Topic 7: amp, new, like, body, want, bag, cross, storm, head\n",
      "Topic 8: love, day, need, life, liked, watch, home, said, sunk\n",
      "Topic 9: lol, rt, work, really, help, feel, ca, night, explode\n",
      "Topic 10: youtube, gt, good, news, say, right, wreck, year, blood\n"
     ]
    }
   ],
   "source": [
    "# Topic model for non-disaster\n",
    "topic_model(0)"
   ]
  },
  {
   "cell_type": "markdown",
   "metadata": {},
   "source": [
    "The above topic model allows us to determine that disaster and non-disaster tweets vary widely. The first topic for non-disaster has only one word that could be construed as being a disaste - \"blazing.\" However, the first topic on the disaster tweets has almost every word being aligned with a disaster."
   ]
  },
  {
   "cell_type": "markdown",
   "metadata": {},
   "source": [
    "## Data split"
   ]
  },
  {
   "cell_type": "code",
   "execution_count": 22,
   "metadata": {},
   "outputs": [],
   "source": [
    "# create feature/target variable\n",
    "X = train_df['text']\n",
    "y = train_df['target']"
   ]
  },
  {
   "cell_type": "code",
   "execution_count": 26,
   "metadata": {},
   "outputs": [],
   "source": [
    "from sklearn.model_selection import train_test_split\n",
    "\n",
    "# split data\n",
    "X_train, X_test, y_train, y_test = train_test_split(X, y, test_size=0.33, random_state=42)"
   ]
  },
  {
   "cell_type": "markdown",
   "metadata": {
    "slideshow": {
     "slide_type": "subslide"
    }
   },
   "source": [
    "## Vectorization\n",
    "\n",
    "Trying to create a model that can take an input text and determine if disaster or non-disaster tweet.\n",
    "\n",
    "- Instantiate vectorizer\n",
    "- Fit vocabulary\n",
    "- Transform vocab to vector space (document term matrix - DTM)\n"
   ]
  },
  {
   "cell_type": "code",
   "execution_count": 32,
   "metadata": {},
   "outputs": [
    {
     "data": {
      "text/plain": [
       "<5100x16398 sparse matrix of type '<class 'numpy.int64'>'\n",
       "\twith 74814 stored elements in Compressed Sparse Row format>"
      ]
     },
     "execution_count": 32,
     "metadata": {},
     "output_type": "execute_result"
    }
   ],
   "source": [
    "# instantiate\n",
    "vect = CountVectorizer()\n",
    "\n",
    "# fit\n",
    "vect.fit(X_train)\n",
    "\n",
    "# transform to DTM\n",
    "X_train_dtm = vect.transform(X_train)\n",
    "X_train_dtm"
   ]
  },
  {
   "cell_type": "code",
   "execution_count": 33,
   "metadata": {},
   "outputs": [
    {
     "data": {
      "text/plain": [
       "<2513x16398 sparse matrix of type '<class 'numpy.int64'>'\n",
       "\twith 31076 stored elements in Compressed Sparse Row format>"
      ]
     },
     "execution_count": 33,
     "metadata": {},
     "output_type": "execute_result"
    }
   ],
   "source": [
    "# transform testing data (using fitted vocabulary) into a document-term matrix (DON'T USE .FIT ON TEST DATA!!!)\n",
    "X_test_dtm = vect.transform(X_test)\n",
    "X_test_dtm"
   ]
  },
  {
   "cell_type": "markdown",
   "metadata": {},
   "source": [
    "## Modelling\n",
    "\n",
    "- split test/train\n",
    "- import\n",
    "- instantiate\n",
    "- fit\n",
    "- predict"
   ]
  },
  {
   "cell_type": "code",
   "execution_count": 34,
   "metadata": {},
   "outputs": [
    {
     "data": {
      "text/plain": [
       "MultinomialNB(alpha=1.0, class_prior=None, fit_prior=True)"
      ]
     },
     "execution_count": 34,
     "metadata": {},
     "output_type": "execute_result"
    }
   ],
   "source": [
    "# import\n",
    "from sklearn.naive_bayes import MultinomialNB\n",
    "\n",
    "# instantiate\n",
    "nb = MultinomialNB()\n",
    "\n",
    "# fit\n",
    "nb.fit(X_train_dtm, y_train)"
   ]
  },
  {
   "cell_type": "code",
   "execution_count": 36,
   "metadata": {},
   "outputs": [],
   "source": [
    "# make class predictions for X_test_dtm\n",
    "y_pred_class = nb.predict(X_test_dtm)"
   ]
  },
  {
   "cell_type": "code",
   "execution_count": 37,
   "metadata": {},
   "outputs": [
    {
     "name": "stdout",
     "output_type": "stream",
     "text": [
      "0.8026263430163152\n"
     ]
    }
   ],
   "source": [
    "# calculate accuracy of class predictions\n",
    "from sklearn import metrics\n",
    "\n",
    "print(metrics.accuracy_score(y_test, y_pred_class))"
   ]
  },
  {
   "cell_type": "code",
   "execution_count": 38,
   "metadata": {},
   "outputs": [
    {
     "name": "stdout",
     "output_type": "stream",
     "text": [
      "[[1263  183]\n",
      " [ 313  754]]\n"
     ]
    }
   ],
   "source": [
    "# confusion matrix\n",
    "print(metrics.confusion_matrix(y_test, y_pred_class))"
   ]
  },
  {
   "cell_type": "code",
   "execution_count": 39,
   "metadata": {},
   "outputs": [
    {
     "name": "stdout",
     "output_type": "stream",
     "text": [
      "              precision    recall  f1-score   support\n",
      "\n",
      "           0       0.80      0.87      0.84      1446\n",
      "           1       0.80      0.71      0.75      1067\n",
      "\n",
      "   micro avg       0.80      0.80      0.80      2513\n",
      "   macro avg       0.80      0.79      0.79      2513\n",
      "weighted avg       0.80      0.80      0.80      2513\n",
      "\n"
     ]
    }
   ],
   "source": [
    "# print out the classification table\n",
    "from sklearn.metrics import classification_report\n",
    "\n",
    "print(classification_report(y_test, y_pred_class))"
   ]
  },
  {
   "cell_type": "code",
   "execution_count": 43,
   "metadata": {
    "scrolled": true
   },
   "outputs": [
    {
     "data": {
      "text/plain": [
       "6029    ON THE USE OF PERFORATED METAL SHEAR PANEL SFO...\n",
       "4019    Who is bringing the tornadoes and floods. Who ...\n",
       "1511    @MyVintageSoul ...of the British upper class a...\n",
       "6372                                 she's a suicide bomb\n",
       "3753    Dear @CanonUSAimaging I brought it ;) #CanonBr...\n",
       "4359    Remove the http://t.co/Xxj2B4JxRt and Linkury ...\n",
       "3771    When your heart is bigger than the obstacles  ...\n",
       "4928    Magic City Mayhem: Kissimmee adventures ? Aug....\n",
       "3003    Dust devil maintenance fee - buy up la rotary ...\n",
       "2111    New crime: knowing your rights. Punishable by ...\n",
       "Name: text, dtype: object"
      ]
     },
     "execution_count": 43,
     "metadata": {},
     "output_type": "execute_result"
    }
   ],
   "source": [
    "# print messages text for the false positives\n",
    "X_test[y_test < y_pred_class][:10]"
   ]
  },
  {
   "cell_type": "code",
   "execution_count": 45,
   "metadata": {},
   "outputs": [
    {
     "data": {
      "text/plain": [
       "2644    So you have a new weapon that can cause un-ima...\n",
       "1765    my favorite lady came to our volunteer meeting...\n",
       "1817    @brianroemmele UX fail of EMV - people want to...\n",
       "3044    Nepal earthquake 3 months on: Women fear abuse...\n",
       "5324    Pandemonium In Aba As Woman Delivers Baby With...\n",
       "6539    It's a miracle that mankind survived 70 years ...\n",
       "4518    @pattonoswalt @FoxNews Wait I thought Fecal Hu...\n",
       "230     @PhilipDuncan @breakfastone People 'annihilate...\n",
       "6292    TodayÛªs storm will pass; let tomorrowÛªs li...\n",
       "4320    Hellfire! We donÛªt even want to think about ...\n",
       "Name: text, dtype: object"
      ]
     },
     "execution_count": 45,
     "metadata": {},
     "output_type": "execute_result"
    }
   ],
   "source": [
    "# print messages text for the false negatives\n",
    "X_test[y_test > y_pred_class][:10]"
   ]
  },
  {
   "cell_type": "markdown",
   "metadata": {},
   "source": [
    "## Submission"
   ]
  },
  {
   "cell_type": "code",
   "execution_count": 43,
   "metadata": {},
   "outputs": [],
   "source": [
    "sample_submission = pd.read_csv(\"data/sample_submission.csv\")"
   ]
  },
  {
   "cell_type": "code",
   "execution_count": 44,
   "metadata": {},
   "outputs": [
    {
     "data": {
      "text/html": [
       "<div>\n",
       "<style scoped>\n",
       "    .dataframe tbody tr th:only-of-type {\n",
       "        vertical-align: middle;\n",
       "    }\n",
       "\n",
       "    .dataframe tbody tr th {\n",
       "        vertical-align: top;\n",
       "    }\n",
       "\n",
       "    .dataframe thead th {\n",
       "        text-align: right;\n",
       "    }\n",
       "</style>\n",
       "<table border=\"1\" class=\"dataframe\">\n",
       "  <thead>\n",
       "    <tr style=\"text-align: right;\">\n",
       "      <th></th>\n",
       "      <th>id</th>\n",
       "      <th>target</th>\n",
       "    </tr>\n",
       "  </thead>\n",
       "  <tbody>\n",
       "    <tr>\n",
       "      <th>0</th>\n",
       "      <td>0</td>\n",
       "      <td>0</td>\n",
       "    </tr>\n",
       "    <tr>\n",
       "      <th>1</th>\n",
       "      <td>2</td>\n",
       "      <td>0</td>\n",
       "    </tr>\n",
       "    <tr>\n",
       "      <th>2</th>\n",
       "      <td>3</td>\n",
       "      <td>0</td>\n",
       "    </tr>\n",
       "    <tr>\n",
       "      <th>3</th>\n",
       "      <td>9</td>\n",
       "      <td>0</td>\n",
       "    </tr>\n",
       "    <tr>\n",
       "      <th>4</th>\n",
       "      <td>11</td>\n",
       "      <td>0</td>\n",
       "    </tr>\n",
       "  </tbody>\n",
       "</table>\n",
       "</div>"
      ],
      "text/plain": [
       "   id  target\n",
       "0   0       0\n",
       "1   2       0\n",
       "2   3       0\n",
       "3   9       0\n",
       "4  11       0"
      ]
     },
     "execution_count": 44,
     "metadata": {},
     "output_type": "execute_result"
    }
   ],
   "source": [
    "sample_submission.head()"
   ]
  },
  {
   "cell_type": "code",
   "execution_count": 45,
   "metadata": {},
   "outputs": [],
   "source": [
    "sample_submission[\"target\"] = clf.predict(test_vectors)"
   ]
  },
  {
   "cell_type": "code",
   "execution_count": 46,
   "metadata": {},
   "outputs": [
    {
     "data": {
      "text/html": [
       "<div>\n",
       "<style scoped>\n",
       "    .dataframe tbody tr th:only-of-type {\n",
       "        vertical-align: middle;\n",
       "    }\n",
       "\n",
       "    .dataframe tbody tr th {\n",
       "        vertical-align: top;\n",
       "    }\n",
       "\n",
       "    .dataframe thead th {\n",
       "        text-align: right;\n",
       "    }\n",
       "</style>\n",
       "<table border=\"1\" class=\"dataframe\">\n",
       "  <thead>\n",
       "    <tr style=\"text-align: right;\">\n",
       "      <th></th>\n",
       "      <th>id</th>\n",
       "      <th>target</th>\n",
       "    </tr>\n",
       "  </thead>\n",
       "  <tbody>\n",
       "    <tr>\n",
       "      <th>0</th>\n",
       "      <td>0</td>\n",
       "      <td>0</td>\n",
       "    </tr>\n",
       "    <tr>\n",
       "      <th>1</th>\n",
       "      <td>2</td>\n",
       "      <td>1</td>\n",
       "    </tr>\n",
       "    <tr>\n",
       "      <th>2</th>\n",
       "      <td>3</td>\n",
       "      <td>1</td>\n",
       "    </tr>\n",
       "    <tr>\n",
       "      <th>3</th>\n",
       "      <td>9</td>\n",
       "      <td>0</td>\n",
       "    </tr>\n",
       "    <tr>\n",
       "      <th>4</th>\n",
       "      <td>11</td>\n",
       "      <td>1</td>\n",
       "    </tr>\n",
       "  </tbody>\n",
       "</table>\n",
       "</div>"
      ],
      "text/plain": [
       "   id  target\n",
       "0   0       0\n",
       "1   2       1\n",
       "2   3       1\n",
       "3   9       0\n",
       "4  11       1"
      ]
     },
     "execution_count": 46,
     "metadata": {},
     "output_type": "execute_result"
    }
   ],
   "source": [
    "sample_submission.head()"
   ]
  },
  {
   "cell_type": "code",
   "execution_count": 47,
   "metadata": {},
   "outputs": [],
   "source": [
    "sample_submission.to_csv(\"data/submission.csv\", index=False)"
   ]
  },
  {
   "cell_type": "code",
   "execution_count": null,
   "metadata": {},
   "outputs": [],
   "source": []
  }
 ],
 "metadata": {
  "kernelspec": {
   "display_name": "Python 3",
   "language": "python",
   "name": "python3"
  },
  "language_info": {
   "codemirror_mode": {
    "name": "ipython",
    "version": 3
   },
   "file_extension": ".py",
   "mimetype": "text/x-python",
   "name": "python",
   "nbconvert_exporter": "python",
   "pygments_lexer": "ipython3",
   "version": "3.7.3"
  }
 },
 "nbformat": 4,
 "nbformat_minor": 2
}
